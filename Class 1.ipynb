{
 "cells": [
  {
   "cell_type": "code",
   "execution_count": 1,
   "id": "9c361e26-7c99-49ed-a0f9-269245e955a9",
   "metadata": {},
   "outputs": [
    {
     "name": "stdout",
     "output_type": "stream",
     "text": [
      "h\n",
      "e\n",
      "l\n",
      "l\n",
      "o\n",
      ",\n",
      " \n",
      "w\n",
      "o\n",
      "r\n",
      "l\n",
      "d\n",
      "!\n"
     ]
    }
   ],
   "source": [
    "for char in \"hello, world!\":\n",
    "    print(char)"
   ]
  },
  {
   "cell_type": "markdown",
   "id": "526f392f-5839-41e2-8a32-38ac2d058481",
   "metadata": {},
   "source": [
    "# Stacks and Queues\n",
    "Stacks and queues are ordered collections of elements. the ordering principlesis important."
   ]
  },
  {
   "cell_type": "code",
   "execution_count": 10,
   "id": "1ced0c57-7360-4d7a-8bf8-8b5703a05725",
   "metadata": {},
   "outputs": [],
   "source": [
    "# simplified implementation of stack (relying on built-ins)\n",
    "\n",
    "class Stack:\n",
    "    def __init__(self):\n",
    "        self.items = []\n",
    "\n",
    "    def push(self, value):\n",
    "        self.items.append(value)\n",
    "\n",
    "    def pop(self):\n",
    "        return self.items.pop()\n",
    "\n",
    "    #  nice to hace methods\n",
    "    def peek(self):\n",
    "        return self.items[len(self.items)-1]\n",
    "\n",
    "    def size(self):\n",
    "        return len(self.items)\n",
    "\n",
    "    def is_empty(self):\n",
    "        return self.items == []\n",
    "    "
   ]
  },
  {
   "cell_type": "code",
   "execution_count": 25,
   "id": "b4ebab25-519b-46ff-994d-49606e02e710",
   "metadata": {},
   "outputs": [],
   "source": [
    "# from scratch implementation of stack\n",
    "\n",
    "class StackII:\n",
    "    class _Node:\n",
    "        def __init__(self, data):\n",
    "            self.data = data\n",
    "            self.below = None\n",
    "\n",
    "    def __init__(self):\n",
    "        self.top = None\n",
    "\n",
    "    def push(self, value):\n",
    "        new_node = self._Node(value)\n",
    "        if not self.top:\n",
    "            self.top = new_node\n",
    "        else:\n",
    "            new_node.below = self.top\n",
    "            self.top = new_node\n",
    "\n",
    "    def pop(self):\n",
    "        if self.top:\n",
    "            datum = self.top.data\n",
    "            self.top = self.top.below\n",
    "            return datum\n",
    "        raise IndexError(\"stack is empty\")\n",
    "\n",
    "    #nice to have methods\n",
    "    def peek(self):\n",
    "        if self.top:\n",
    "            return self.top.data\n",
    "        raise IndexError(\"Stack is empty\")\n",
    "            \n",
    "\n",
    "    def size(self):\n",
    "        # Node traversal\n",
    "        count = 0\n",
    "        if self.top:\n",
    "            current = self.top\n",
    "            while current:\n",
    "                count += 1\n",
    "                current = current.below\n",
    "        return count\n",
    "\n",
    "    def is_empty(self):\n",
    "        return self.top == None"
   ]
  },
  {
   "cell_type": "code",
   "execution_count": 26,
   "id": "bc9a6c66-1dde-4297-a282-afdf707bc614",
   "metadata": {},
   "outputs": [],
   "source": [
    "# from scratch implementation of stack\n",
    "\n",
    "def invert_str(mystring, class_name):\n",
    "    stack = class_name()\n",
    "    for char in mystring:\n",
    "        stack.push(char)\n",
    "    out = \"\"\n",
    "    while not stack.is_empty():\n",
    "        out += stack.pop()\n",
    "    return out"
   ]
  },
  {
   "cell_type": "code",
   "execution_count": 27,
   "id": "92218659-15d4-4f22-8d40-06b1aff9af34",
   "metadata": {},
   "outputs": [
    {
     "name": "stdout",
     "output_type": "stream",
     "text": [
      "nayR\n",
      "nayr\n"
     ]
    }
   ],
   "source": [
    "# with built_in implementation\n",
    "print( invert_str(\"Ryan\", Stack) )\n",
    "\n",
    "# from scratch implementation\n",
    "print( invert_str('ryan', StackII))"
   ]
  },
  {
   "cell_type": "code",
   "execution_count": 29,
   "id": "baeeb79b-7885-48fc-8b9c-3cf340758a90",
   "metadata": {},
   "outputs": [],
   "source": [
    "# Built-in implementation of Queues\n",
    "class Queue:\n",
    "    def __init__(self):\n",
    "        self.items = []\n",
    "\n",
    "    def enqueue(self, value):\n",
    "        self.items.insert(0, value)\n",
    "\n",
    "    def dequeue(self):\n",
    "        return self.items.pop()\n",
    "\n",
    "    # nice to have methods\n",
    "    def peek(self):\n",
    "        return self.items[len(self.items)-1]\n",
    "\n",
    "    def size(self):\n",
    "        return len(self.items)\n",
    "\n",
    "    def is_empty(self):\n",
    "        return self.items == []"
   ]
  },
  {
   "cell_type": "code",
   "execution_count": 32,
   "id": "e98171ad-bc05-4b48-88e1-05efcbeff45d",
   "metadata": {},
   "outputs": [],
   "source": [
    "# from scratch implementation of QueueII\n",
    "\n",
    "class QueueII:\n",
    "    class _Node:\n",
    "        def __init__(self, data):\n",
    "            self.data = data\n",
    "            self.next = None\n",
    "\n",
    "    def __init__(self):\n",
    "        self.back = None\n",
    "        self.front = None\n",
    "\n",
    "    def enqueue(self, value):\n",
    "        new_node = self._Node(value)\n",
    "        if not self.back:\n",
    "            self.front = new_node\n",
    "            self.back = new_node\n",
    "\n",
    "    def dequeue(self):\n",
    "        if not self.front:\n",
    "            raise IndexError(\"Queue is empty\")\n",
    "        value = self.front.data\n",
    "        self.front = self.front.next\n",
    "        if not self.front:\n",
    "            self.back = None\n",
    "        return self.front.data\n",
    "\n",
    "        # nice to have methods\n",
    "        def peek(self):\n",
    "            if not self.front:\n",
    "                raise IndexError(\"Queue is empty\")\n",
    "            return self.front.data\n",
    "\n",
    "        def size(self):\n",
    "            count = 0 \n",
    "            current = self.front\n",
    "            while current:\n",
    "                count += 1\n",
    "                current = current.next\n",
    "            return count\n",
    "\n",
    "        def is_empty(self):\n",
    "            return self.front is None\n",
    "\n",
    "# note: implement the nice to have methods for extra points"
   ]
  },
  {
   "cell_type": "code",
   "execution_count": null,
   "id": "c4d41555-fefe-4d15-9ed4-307a157ae8f9",
   "metadata": {},
   "outputs": [],
   "source": []
  }
 ],
 "metadata": {
  "kernelspec": {
   "display_name": "Python 3 (ipykernel)",
   "language": "python",
   "name": "python3"
  },
  "language_info": {
   "codemirror_mode": {
    "name": "ipython",
    "version": 3
   },
   "file_extension": ".py",
   "mimetype": "text/x-python",
   "name": "python",
   "nbconvert_exporter": "python",
   "pygments_lexer": "ipython3",
   "version": "3.12.3"
  }
 },
 "nbformat": 4,
 "nbformat_minor": 5
}
