{
 "cells": [
  {
   "cell_type": "code",
   "execution_count": 1,
   "id": "f1180fc7-f970-42ad-bcad-ada5e2868822",
   "metadata": {},
   "outputs": [],
   "source": [
    "class Stack:\n",
    "    def __init__(self):\n",
    "        self.items = []\n",
    "\n",
    "    def is_empty(self):\n",
    "        return len(self.items) == 0\n",
    "\n",
    "    def push(self, item):\n",
    "        self.items.append(item)\n",
    "\n",
    "    def pop(self):\n",
    "        if not self.is_empty():\n",
    "            return self.items.pop()\n",
    "        raise IndexError(\"pop from empty stack\")\n",
    "\n",
    "    def peek(self):\n",
    "        if not self.is_empty():\n",
    "            return self.items[-1]\n",
    "        raise IndexError(\"peek from empty stack\")\n",
    "\n",
    "    def size(self):\n",
    "        return len(self.items)\n"
   ]
  },
  {
   "cell_type": "code",
   "execution_count": 3,
   "id": "9a422916-fba7-4d5a-b96b-23b166f7eae6",
   "metadata": {},
   "outputs": [],
   "source": [
    "class Queue:\n",
    "    def __init__(self):\n",
    "        self.items = []\n",
    "\n",
    "    def is_empty(self):\n",
    "        return len(self.items) == 0\n",
    "\n",
    "    def enqueue(self, item):\n",
    "        self.items.insert(0, item)\n",
    "\n",
    "    def dequeue(self):\n",
    "        if not self.is_empty():\n",
    "            return self.items.pop()\n",
    "        raise IndexError(\"dequeue from empty queue\")\n",
    "\n",
    "    def size(self):\n",
    "        return len(self.items)\n"
   ]
  },
  {
   "cell_type": "code",
   "execution_count": 6,
   "id": "02cce7f2-ca4f-4745-bc66-4b77852df1b6",
   "metadata": {},
   "outputs": [],
   "source": [
    "# Test Stack\n",
    "stack = Stack()\n",
    "assert stack.is_empty() == True\n",
    "stack.push(5)\n",
    "assert stack.is_empty() == False\n",
    "assert stack.peek() == 5\n",
    "assert stack.pop() == 5\n",
    "assert stack.is_empty() == True\n",
    "\n",
    "# Test Queue\n",
    "queue = Queue()\n",
    "assert queue.is_empty() == True\n",
    "queue.enqueue(5)\n",
    "assert queue.is_empty() == False\n",
    "assert queue.dequeue() == 5\n",
    "assert queue.is_empty() == True\n"
   ]
  },
  {
   "cell_type": "code",
   "execution_count": null,
   "id": "e5e0b773-b2fa-484c-b0b1-2307926ce0a3",
   "metadata": {},
   "outputs": [],
   "source": []
  }
 ],
 "metadata": {
  "kernelspec": {
   "display_name": "Python 3 (ipykernel)",
   "language": "python",
   "name": "python3"
  },
  "language_info": {
   "codemirror_mode": {
    "name": "ipython",
    "version": 3
   },
   "file_extension": ".py",
   "mimetype": "text/x-python",
   "name": "python",
   "nbconvert_exporter": "python",
   "pygments_lexer": "ipython3",
   "version": "3.12.3"
  }
 },
 "nbformat": 4,
 "nbformat_minor": 5
}
